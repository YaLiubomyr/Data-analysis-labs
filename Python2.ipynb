{
  "cells": [
    {
      "cell_type": "markdown",
      "metadata": {
        "id": "K8f7NsILrXX0"
      },
      "source": [
        "# Пошуковий аналіз даних"
      ]
    },
    {
      "cell_type": "markdown",
      "metadata": {
        "id": "MyOywslOrXX4"
      },
      "source": [
        "<h2>Мета</h2>\n",
        "\n",
        "Ознайомитись з методами перевірки статистичних гіпотез. Після завершення цієї лабораторної роботи ви зможете:\n",
        "\n",
        "* Досліджувати дані за допомогою візуалізацій\n",
        "* Робити описовий аналіз\n",
        "* Групувати дані для аналізу\n",
        "* Знаходити зв'язок між ознаками\n",
        "* Перевіряти гіпотези про значущість коефіцієнта кореляції та про вигляд закону розподілу\n",
        "* Робити дисперсійний аналіз\n",
        "\n"
      ]
    },
    {
      "cell_type": "markdown",
      "metadata": {
        "id": "yclvNaJ4rXYj"
      },
      "source": [
        "<div class=\"alert alert-danger alertdanger\" style=\"margin-top: 20px\">\n",
        "\n",
        "# <h1 id=\"task\">Завдання, що оцінюються </h1>\n",
        "\n",
        "</div>\n"
      ]
    },
    {
      "cell_type": "markdown",
      "metadata": {
        "id": "LTFKLFsErXYj"
      },
      "source": [
        "1. Скачати дані із файлу <a href=\"https://drive.google.com/file/d/1wSj5SKRPKOjNPP2cyqaNpxRCinKEmJkO/view?usp=drive_link\" target=\"_blank\">'clean_data2.csv'</a>, який зберегли наприкінці попередньої роботи (Data2.csv з виправленими помилками та заповненими пропусками). Записати дані у dataframe. Дослідити ознаки, побудувавши їх візуалізації\n",
        "2. Порахувати кореляцію між всіма кількісними ознаками\n",
        "3. Побудувати діаграми розсіювання для кількісних ознак та 'CO2 emission'. Побудувати діаграму розмаху для 'CO2 emission' по регіонам. Візуально оцініть наявність та силу зв'язку між цими ознаками.   \n",
        "4. Які кількісні ознаки можуть бути предикторами кількості викидів СО2?\n",
        "5. Виконати дисперсійний аналіз для кількості викидів СО2, згрупувати дані по регіонам"
      ]
    },
    {
      "cell_type": "markdown",
      "metadata": {
        "id": "g6w6-VPsrXYj"
      },
      "source": [
        "<a name=\"task1\"></a>\n",
        "<div class=\"alert alert-danger alertdanger\" style=\"margin-top: 20px\">\n",
        "\n",
        "## <h2 id=\"task1\">Завдання  #1: </h2>\n",
        "\n",
        "<p>Дослідити ознаки, побудувавши їх візуалізації</p>\n",
        "</div>\n"
      ]
    },
    {
      "cell_type": "markdown",
      "metadata": {
        "id": "Rs9Ykjo_rXYk"
      },
      "source": [
        "Зчитую дані з файлу у датафрейм"
      ]
    },
    {
      "cell_type": "code",
      "execution_count": 38,
      "metadata": {
        "id": "RURRLXAurXYk",
        "colab": {
          "base_uri": "https://localhost:8080/",
          "height": 223
        },
        "outputId": "c63c9bac-f7ca-498d-dd27-c97988b1116c"
      },
      "outputs": [
        {
          "output_type": "stream",
          "name": "stdout",
          "text": [
            "Drive already mounted at /content/drive; to attempt to forcibly remount, call drive.mount(\"/content/drive\", force_remount=True).\n"
          ]
        },
        {
          "output_type": "execute_result",
          "data": {
            "text/plain": [
              "     Country Name                      Region  GDP per capita  Population  \\\n",
              "0     Afghanistan                  South Asia      5617787463    34656032   \n",
              "1         Albania       Europe & Central Asia       412498239     2876101   \n",
              "2         Algeria  Middle East & North Africa      3916881571    40606052   \n",
              "3  American Samoa         East Asia & Pacific      1183474523       55599   \n",
              "4         Andorra       Europe & Central Asia      3698862203       77281   \n",
              "\n",
              "   CO2 emission       Area  Population density  \n",
              "0       9809225   652860.0           53.083405  \n",
              "1       5716853    28750.0          100.038296  \n",
              "2     145400217  2381740.0           17.048902  \n",
              "3     113349248      200.0          277.995000  \n",
              "4        462042      470.0          164.427660  "
            ],
            "text/html": [
              "\n",
              "  <div id=\"df-5953c6b1-ce09-4c04-a47c-b2c0e2317221\" class=\"colab-df-container\">\n",
              "    <div>\n",
              "<style scoped>\n",
              "    .dataframe tbody tr th:only-of-type {\n",
              "        vertical-align: middle;\n",
              "    }\n",
              "\n",
              "    .dataframe tbody tr th {\n",
              "        vertical-align: top;\n",
              "    }\n",
              "\n",
              "    .dataframe thead th {\n",
              "        text-align: right;\n",
              "    }\n",
              "</style>\n",
              "<table border=\"1\" class=\"dataframe\">\n",
              "  <thead>\n",
              "    <tr style=\"text-align: right;\">\n",
              "      <th></th>\n",
              "      <th>Country Name</th>\n",
              "      <th>Region</th>\n",
              "      <th>GDP per capita</th>\n",
              "      <th>Population</th>\n",
              "      <th>CO2 emission</th>\n",
              "      <th>Area</th>\n",
              "      <th>Population density</th>\n",
              "    </tr>\n",
              "  </thead>\n",
              "  <tbody>\n",
              "    <tr>\n",
              "      <th>0</th>\n",
              "      <td>Afghanistan</td>\n",
              "      <td>South Asia</td>\n",
              "      <td>5617787463</td>\n",
              "      <td>34656032</td>\n",
              "      <td>9809225</td>\n",
              "      <td>652860.0</td>\n",
              "      <td>53.083405</td>\n",
              "    </tr>\n",
              "    <tr>\n",
              "      <th>1</th>\n",
              "      <td>Albania</td>\n",
              "      <td>Europe &amp; Central Asia</td>\n",
              "      <td>412498239</td>\n",
              "      <td>2876101</td>\n",
              "      <td>5716853</td>\n",
              "      <td>28750.0</td>\n",
              "      <td>100.038296</td>\n",
              "    </tr>\n",
              "    <tr>\n",
              "      <th>2</th>\n",
              "      <td>Algeria</td>\n",
              "      <td>Middle East &amp; North Africa</td>\n",
              "      <td>3916881571</td>\n",
              "      <td>40606052</td>\n",
              "      <td>145400217</td>\n",
              "      <td>2381740.0</td>\n",
              "      <td>17.048902</td>\n",
              "    </tr>\n",
              "    <tr>\n",
              "      <th>3</th>\n",
              "      <td>American Samoa</td>\n",
              "      <td>East Asia &amp; Pacific</td>\n",
              "      <td>1183474523</td>\n",
              "      <td>55599</td>\n",
              "      <td>113349248</td>\n",
              "      <td>200.0</td>\n",
              "      <td>277.995000</td>\n",
              "    </tr>\n",
              "    <tr>\n",
              "      <th>4</th>\n",
              "      <td>Andorra</td>\n",
              "      <td>Europe &amp; Central Asia</td>\n",
              "      <td>3698862203</td>\n",
              "      <td>77281</td>\n",
              "      <td>462042</td>\n",
              "      <td>470.0</td>\n",
              "      <td>164.427660</td>\n",
              "    </tr>\n",
              "  </tbody>\n",
              "</table>\n",
              "</div>\n",
              "    <div class=\"colab-df-buttons\">\n",
              "\n",
              "  <div class=\"colab-df-container\">\n",
              "    <button class=\"colab-df-convert\" onclick=\"convertToInteractive('df-5953c6b1-ce09-4c04-a47c-b2c0e2317221')\"\n",
              "            title=\"Convert this dataframe to an interactive table.\"\n",
              "            style=\"display:none;\">\n",
              "\n",
              "  <svg xmlns=\"http://www.w3.org/2000/svg\" height=\"24px\" viewBox=\"0 -960 960 960\">\n",
              "    <path d=\"M120-120v-720h720v720H120Zm60-500h600v-160H180v160Zm220 220h160v-160H400v160Zm0 220h160v-160H400v160ZM180-400h160v-160H180v160Zm440 0h160v-160H620v160ZM180-180h160v-160H180v160Zm440 0h160v-160H620v160Z\"/>\n",
              "  </svg>\n",
              "    </button>\n",
              "\n",
              "  <style>\n",
              "    .colab-df-container {\n",
              "      display:flex;\n",
              "      gap: 12px;\n",
              "    }\n",
              "\n",
              "    .colab-df-convert {\n",
              "      background-color: #E8F0FE;\n",
              "      border: none;\n",
              "      border-radius: 50%;\n",
              "      cursor: pointer;\n",
              "      display: none;\n",
              "      fill: #1967D2;\n",
              "      height: 32px;\n",
              "      padding: 0 0 0 0;\n",
              "      width: 32px;\n",
              "    }\n",
              "\n",
              "    .colab-df-convert:hover {\n",
              "      background-color: #E2EBFA;\n",
              "      box-shadow: 0px 1px 2px rgba(60, 64, 67, 0.3), 0px 1px 3px 1px rgba(60, 64, 67, 0.15);\n",
              "      fill: #174EA6;\n",
              "    }\n",
              "\n",
              "    .colab-df-buttons div {\n",
              "      margin-bottom: 4px;\n",
              "    }\n",
              "\n",
              "    [theme=dark] .colab-df-convert {\n",
              "      background-color: #3B4455;\n",
              "      fill: #D2E3FC;\n",
              "    }\n",
              "\n",
              "    [theme=dark] .colab-df-convert:hover {\n",
              "      background-color: #434B5C;\n",
              "      box-shadow: 0px 1px 3px 1px rgba(0, 0, 0, 0.15);\n",
              "      filter: drop-shadow(0px 1px 2px rgba(0, 0, 0, 0.3));\n",
              "      fill: #FFFFFF;\n",
              "    }\n",
              "  </style>\n",
              "\n",
              "    <script>\n",
              "      const buttonEl =\n",
              "        document.querySelector('#df-5953c6b1-ce09-4c04-a47c-b2c0e2317221 button.colab-df-convert');\n",
              "      buttonEl.style.display =\n",
              "        google.colab.kernel.accessAllowed ? 'block' : 'none';\n",
              "\n",
              "      async function convertToInteractive(key) {\n",
              "        const element = document.querySelector('#df-5953c6b1-ce09-4c04-a47c-b2c0e2317221');\n",
              "        const dataTable =\n",
              "          await google.colab.kernel.invokeFunction('convertToInteractive',\n",
              "                                                    [key], {});\n",
              "        if (!dataTable) return;\n",
              "\n",
              "        const docLinkHtml = 'Like what you see? Visit the ' +\n",
              "          '<a target=\"_blank\" href=https://colab.research.google.com/notebooks/data_table.ipynb>data table notebook</a>'\n",
              "          + ' to learn more about interactive tables.';\n",
              "        element.innerHTML = '';\n",
              "        dataTable['output_type'] = 'display_data';\n",
              "        await google.colab.output.renderOutput(dataTable, element);\n",
              "        const docLink = document.createElement('div');\n",
              "        docLink.innerHTML = docLinkHtml;\n",
              "        element.appendChild(docLink);\n",
              "      }\n",
              "    </script>\n",
              "  </div>\n",
              "\n",
              "\n",
              "<div id=\"df-db4a5efc-c4c5-4db7-975b-7467980e6b29\">\n",
              "  <button class=\"colab-df-quickchart\" onclick=\"quickchart('df-db4a5efc-c4c5-4db7-975b-7467980e6b29')\"\n",
              "            title=\"Suggest charts\"\n",
              "            style=\"display:none;\">\n",
              "\n",
              "<svg xmlns=\"http://www.w3.org/2000/svg\" height=\"24px\"viewBox=\"0 0 24 24\"\n",
              "     width=\"24px\">\n",
              "    <g>\n",
              "        <path d=\"M19 3H5c-1.1 0-2 .9-2 2v14c0 1.1.9 2 2 2h14c1.1 0 2-.9 2-2V5c0-1.1-.9-2-2-2zM9 17H7v-7h2v7zm4 0h-2V7h2v10zm4 0h-2v-4h2v4z\"/>\n",
              "    </g>\n",
              "</svg>\n",
              "  </button>\n",
              "\n",
              "<style>\n",
              "  .colab-df-quickchart {\n",
              "      --bg-color: #E8F0FE;\n",
              "      --fill-color: #1967D2;\n",
              "      --hover-bg-color: #E2EBFA;\n",
              "      --hover-fill-color: #174EA6;\n",
              "      --disabled-fill-color: #AAA;\n",
              "      --disabled-bg-color: #DDD;\n",
              "  }\n",
              "\n",
              "  [theme=dark] .colab-df-quickchart {\n",
              "      --bg-color: #3B4455;\n",
              "      --fill-color: #D2E3FC;\n",
              "      --hover-bg-color: #434B5C;\n",
              "      --hover-fill-color: #FFFFFF;\n",
              "      --disabled-bg-color: #3B4455;\n",
              "      --disabled-fill-color: #666;\n",
              "  }\n",
              "\n",
              "  .colab-df-quickchart {\n",
              "    background-color: var(--bg-color);\n",
              "    border: none;\n",
              "    border-radius: 50%;\n",
              "    cursor: pointer;\n",
              "    display: none;\n",
              "    fill: var(--fill-color);\n",
              "    height: 32px;\n",
              "    padding: 0;\n",
              "    width: 32px;\n",
              "  }\n",
              "\n",
              "  .colab-df-quickchart:hover {\n",
              "    background-color: var(--hover-bg-color);\n",
              "    box-shadow: 0 1px 2px rgba(60, 64, 67, 0.3), 0 1px 3px 1px rgba(60, 64, 67, 0.15);\n",
              "    fill: var(--button-hover-fill-color);\n",
              "  }\n",
              "\n",
              "  .colab-df-quickchart-complete:disabled,\n",
              "  .colab-df-quickchart-complete:disabled:hover {\n",
              "    background-color: var(--disabled-bg-color);\n",
              "    fill: var(--disabled-fill-color);\n",
              "    box-shadow: none;\n",
              "  }\n",
              "\n",
              "  .colab-df-spinner {\n",
              "    border: 2px solid var(--fill-color);\n",
              "    border-color: transparent;\n",
              "    border-bottom-color: var(--fill-color);\n",
              "    animation:\n",
              "      spin 1s steps(1) infinite;\n",
              "  }\n",
              "\n",
              "  @keyframes spin {\n",
              "    0% {\n",
              "      border-color: transparent;\n",
              "      border-bottom-color: var(--fill-color);\n",
              "      border-left-color: var(--fill-color);\n",
              "    }\n",
              "    20% {\n",
              "      border-color: transparent;\n",
              "      border-left-color: var(--fill-color);\n",
              "      border-top-color: var(--fill-color);\n",
              "    }\n",
              "    30% {\n",
              "      border-color: transparent;\n",
              "      border-left-color: var(--fill-color);\n",
              "      border-top-color: var(--fill-color);\n",
              "      border-right-color: var(--fill-color);\n",
              "    }\n",
              "    40% {\n",
              "      border-color: transparent;\n",
              "      border-right-color: var(--fill-color);\n",
              "      border-top-color: var(--fill-color);\n",
              "    }\n",
              "    60% {\n",
              "      border-color: transparent;\n",
              "      border-right-color: var(--fill-color);\n",
              "    }\n",
              "    80% {\n",
              "      border-color: transparent;\n",
              "      border-right-color: var(--fill-color);\n",
              "      border-bottom-color: var(--fill-color);\n",
              "    }\n",
              "    90% {\n",
              "      border-color: transparent;\n",
              "      border-bottom-color: var(--fill-color);\n",
              "    }\n",
              "  }\n",
              "</style>\n",
              "\n",
              "  <script>\n",
              "    async function quickchart(key) {\n",
              "      const quickchartButtonEl =\n",
              "        document.querySelector('#' + key + ' button');\n",
              "      quickchartButtonEl.disabled = true;  // To prevent multiple clicks.\n",
              "      quickchartButtonEl.classList.add('colab-df-spinner');\n",
              "      try {\n",
              "        const charts = await google.colab.kernel.invokeFunction(\n",
              "            'suggestCharts', [key], {});\n",
              "      } catch (error) {\n",
              "        console.error('Error during call to suggestCharts:', error);\n",
              "      }\n",
              "      quickchartButtonEl.classList.remove('colab-df-spinner');\n",
              "      quickchartButtonEl.classList.add('colab-df-quickchart-complete');\n",
              "    }\n",
              "    (() => {\n",
              "      let quickchartButtonEl =\n",
              "        document.querySelector('#df-db4a5efc-c4c5-4db7-975b-7467980e6b29 button');\n",
              "      quickchartButtonEl.style.display =\n",
              "        google.colab.kernel.accessAllowed ? 'block' : 'none';\n",
              "    })();\n",
              "  </script>\n",
              "</div>\n",
              "    </div>\n",
              "  </div>\n"
            ],
            "application/vnd.google.colaboratory.intrinsic+json": {
              "type": "dataframe",
              "variable_name": "df",
              "summary": "{\n  \"name\": \"df\",\n  \"rows\": 217,\n  \"fields\": [\n    {\n      \"column\": \"Country Name\",\n      \"properties\": {\n        \"dtype\": \"string\",\n        \"num_unique_values\": 217,\n        \"samples\": [\n          \"United Kingdom\",\n          \"Yemen, Rep.\",\n          \"Nepal\"\n        ],\n        \"semantic_type\": \"\",\n        \"description\": \"\"\n      }\n    },\n    {\n      \"column\": \"Region\",\n      \"properties\": {\n        \"dtype\": \"category\",\n        \"num_unique_values\": 7,\n        \"samples\": [\n          \"South Asia\",\n          \"Europe & Central Asia\",\n          \"Latin America & Caribbean\"\n        ],\n        \"semantic_type\": \"\",\n        \"description\": \"\"\n      }\n    },\n    {\n      \"column\": \"GDP per capita\",\n      \"properties\": {\n        \"dtype\": \"number\",\n        \"std\": 2288538996,\n        \"min\": 108626004,\n        \"max\": 9875278428,\n        \"num_unique_values\": 191,\n        \"samples\": [\n          1652954097,\n          5976470538,\n          3909989066\n        ],\n        \"semantic_type\": \"\",\n        \"description\": \"\"\n      }\n    },\n    {\n      \"column\": \"Population\",\n      \"properties\": {\n        \"dtype\": \"number\",\n        \"std\": 134447695,\n        \"min\": 11097,\n        \"max\": 1378665000,\n        \"num_unique_values\": 217,\n        \"samples\": [\n          65637239,\n          27584213,\n          28982771\n        ],\n        \"semantic_type\": \"\",\n        \"description\": \"\"\n      }\n    },\n    {\n      \"column\": \"CO2 emission\",\n      \"properties\": {\n        \"dtype\": \"number\",\n        \"std\": 426867888,\n        \"min\": 7334,\n        \"max\": 5254279285,\n        \"num_unique_values\": 201,\n        \"samples\": [\n          26450071,\n          73189653,\n          2849259\n        ],\n        \"semantic_type\": \"\",\n        \"description\": \"\"\n      }\n    },\n    {\n      \"column\": \"Area\",\n      \"properties\": {\n        \"dtype\": \"number\",\n        \"std\": 1827830.436623243,\n        \"min\": 2.0,\n        \"max\": 17098250.0,\n        \"num_unique_values\": 213,\n        \"samples\": [\n          180.0,\n          30.0,\n          338420.0\n        ],\n        \"semantic_type\": \"\",\n        \"description\": \"\"\n      }\n    },\n    {\n      \"column\": \"Population density\",\n      \"properties\": {\n        \"dtype\": \"number\",\n        \"std\": 2012.7962195248144,\n        \"min\": 0.1368887806066512,\n        \"max\": 20203.531353135317,\n        \"num_unique_values\": 217,\n        \"samples\": [\n          269.4357333442798,\n          52.24579616266076,\n          196.92058024188069\n        ],\n        \"semantic_type\": \"\",\n        \"description\": \"\"\n      }\n    }\n  ]\n}"
            }
          },
          "metadata": {},
          "execution_count": 38
        }
      ],
      "source": [
        "import pandas as pd\n",
        "import numpy as np\n",
        "import matplotlib.pyplot as plt\n",
        "import seaborn as sns\n",
        "\n",
        "from google.colab import drive\n",
        "drive.mount('/content/drive')\n",
        "filename = \"/content/drive/My Drive/clean_data2.csv\"\n",
        "df = pd.read_csv(filename, sep=',', encoding='cp1252')\n",
        "df.head()"
      ]
    },
    {
      "cell_type": "markdown",
      "source": [
        "Переглядаю типи змінних"
      ],
      "metadata": {
        "id": "El4ey2PTV8tW"
      }
    },
    {
      "cell_type": "code",
      "source": [
        "print(df.dtypes)"
      ],
      "metadata": {
        "colab": {
          "base_uri": "https://localhost:8080/"
        },
        "id": "F1L2P9SFWA9n",
        "outputId": "65a2560b-36eb-42c8-bf99-d928bed626ca"
      },
      "execution_count": 39,
      "outputs": [
        {
          "output_type": "stream",
          "name": "stdout",
          "text": [
            "Country Name           object\n",
            "Region                 object\n",
            "GDP per capita          int64\n",
            "Population              int64\n",
            "CO2 emission            int64\n",
            "Area                  float64\n",
            "Population density    float64\n",
            "dtype: object\n"
          ]
        }
      ]
    },
    {
      "cell_type": "markdown",
      "metadata": {
        "id": "GWS4qXCjrXYk"
      },
      "source": [
        "Будую графіки"
      ]
    },
    {
      "cell_type": "code",
      "execution_count": 40,
      "metadata": {
        "id": "w_cNfycirXYk",
        "colab": {
          "base_uri": "https://localhost:8080/",
          "height": 757
        },
        "outputId": "a37cf39e-bb1a-4be0-abd5-6a8eb5df97ef"
      },
      "outputs": [
        {
          "output_type": "display_data",
          "data": {
            "text/plain": [
              "<Figure size 2500x500 with 5 Axes>"
            ],
            "image/png": "[encoded data removed]"
          },
          "metadata": {}
        },
        {
          "output_type": "execute_result",
          "data": {
            "text/plain": [
              "Text(0.5, 1.0, 'Dependence between CO2 emission and population')"
            ]
          },
          "metadata": {},
          "execution_count": 40
        },
        {
          "output_type": "display_data",
          "data": {
            "text/plain": [
              "<Figure size 640x480 with 1 Axes>"
            ],
            "image/png": "[encoded data removed]"
          },
          "metadata": {}
        }
      ],
      "source": [
        "fig, axs = plt.subplots(1, 5, figsize=(25, 5))\n",
        "\n",
        "fig.suptitle('Діаграми розмаху', fontsize=16)\n",
        "\n",
        "axs[0].set_title('GDP per capita')\n",
        "axs[0].boxplot(df['GDP per capita'])\n",
        "\n",
        "axs[1].set_title('Population')\n",
        "axs[1].boxplot(df['Population'])\n",
        "\n",
        "axs[2].set_title('CO2 emission')\n",
        "axs[2].boxplot(df['CO2 emission'])\n",
        "\n",
        "axs[3].set_title('Area')\n",
        "axs[3].boxplot(df['Area'])\n",
        "\n",
        "axs[4].set_title('Population density')\n",
        "axs[4].boxplot(df['Population density'])\n",
        "\n",
        "plt.show()\n",
        "\n",
        "plt.hist(df['Area'])\n",
        "plt.xlabel(\"CO2 emission\")\n",
        "plt.ylabel(\"Population\")\n",
        "plt.title(\"Dependence between CO2 emission and population\")"
      ]
    },
    {
      "cell_type": "markdown",
      "metadata": {
        "id": "U9JpgRscrXYl"
      },
      "source": [
        "<a name=\"task2\"></a>\n",
        "<div class=\"alert alert-danger alertdanger\" style=\"margin-top: 20px\">\n",
        "\n",
        "## <h2 id=\"task2\">Завдання  #2: </h2>\n",
        "\n",
        "<p>Порахувати кореляцію між всіма кількісними ознаками</p>\n",
        "</div>\n"
      ]
    },
    {
      "cell_type": "markdown",
      "metadata": {
        "id": "iO5cGA0HrXYm"
      },
      "source": [
        "Рахую кореляцію між всіма кількісними ознаками"
      ]
    },
    {
      "cell_type": "code",
      "execution_count": 41,
      "metadata": {
        "id": "6HnWJ0TCrXYm",
        "colab": {
          "base_uri": "https://localhost:8080/",
          "height": 206
        },
        "outputId": "4cac4c2b-f2be-4b5d-bc85-4555b83bb4bc"
      },
      "outputs": [
        {
          "output_type": "execute_result",
          "data": {
            "text/plain": [
              "                    GDP per capita  Population  CO2 emission      Area  \\\n",
              "GDP per capita            1.000000    0.063169      0.076036  0.173848   \n",
              "Population                0.063169    1.000000      0.510186  0.453500   \n",
              "CO2 emission              0.076036    0.510186      1.000000  0.598965   \n",
              "Area                      0.173848    0.453500      0.598965  1.000000   \n",
              "Population density        0.094947   -0.028449     -0.021339 -0.064138   \n",
              "\n",
              "                    Population density  \n",
              "GDP per capita                0.094947  \n",
              "Population                   -0.028449  \n",
              "CO2 emission                 -0.021339  \n",
              "Area                         -0.064138  \n",
              "Population density            1.000000  "
            ],
            "text/html": [
              "\n",
              "  <div id=\"df-dd52bb6a-6d36-4601-a570-128fe1048935\" class=\"colab-df-container\">\n",
              "    <div>\n",
              "<style scoped>\n",
              "    .dataframe tbody tr th:only-of-type {\n",
              "        vertical-align: middle;\n",
              "    }\n",
              "\n",
              "    .dataframe tbody tr th {\n",
              "        vertical-align: top;\n",
              "    }\n",
              "\n",
              "    .dataframe thead th {\n",
              "        text-align: right;\n",
              "    }\n",
              "</style>\n",
              "<table border=\"1\" class=\"dataframe\">\n",
              "  <thead>\n",
              "    <tr style=\"text-align: right;\">\n",
              "      <th></th>\n",
              "      <th>GDP per capita</th>\n",
              "      <th>Population</th>\n",
              "      <th>CO2 emission</th>\n",
              "      <th>Area</th>\n",
              "      <th>Population density</th>\n",
              "    </tr>\n",
              "  </thead>\n",
              "  <tbody>\n",
              "    <tr>\n",
              "      <th>GDP per capita</th>\n",
              "      <td>1.000000</td>\n",
              "      <td>0.063169</td>\n",
              "      <td>0.076036</td>\n",
              "      <td>0.173848</td>\n",
              "      <td>0.094947</td>\n",
              "    </tr>\n",
              "    <tr>\n",
              "      <th>Population</th>\n",
              "      <td>0.063169</td>\n",
              "      <td>1.000000</td>\n",
              "      <td>0.510186</td>\n",
              "      <td>0.453500</td>\n",
              "      <td>-0.028449</td>\n",
              "    </tr>\n",
              "    <tr>\n",
              "      <th>CO2 emission</th>\n",
              "      <td>0.076036</td>\n",
              "      <td>0.510186</td>\n",
              "      <td>1.000000</td>\n",
              "      <td>0.598965</td>\n",
              "      <td>-0.021339</td>\n",
              "    </tr>\n",
              "    <tr>\n",
              "      <th>Area</th>\n",
              "      <td>0.173848</td>\n",
              "      <td>0.453500</td>\n",
              "      <td>0.598965</td>\n",
              "      <td>1.000000</td>\n",
              "      <td>-0.064138</td>\n",
              "    </tr>\n",
              "    <tr>\n",
              "      <th>Population density</th>\n",
              "      <td>0.094947</td>\n",
              "      <td>-0.028449</td>\n",
              "      <td>-0.021339</td>\n",
              "      <td>-0.064138</td>\n",
              "      <td>1.000000</td>\n",
              "    </tr>\n",
              "  </tbody>\n",
              "</table>\n",
              "</div>\n",
              "    <div class=\"colab-df-buttons\">\n",
              "\n",
              "  <div class=\"colab-df-container\">\n",
              "    <button class=\"colab-df-convert\" onclick=\"convertToInteractive('df-dd52bb6a-6d36-4601-a570-128fe1048935')\"\n",
              "            title=\"Convert this dataframe to an interactive table.\"\n",
              "            style=\"display:none;\">\n",
              "\n",
              "  <svg xmlns=\"http://www.w3.org/2000/svg\" height=\"24px\" viewBox=\"0 -960 960 960\">\n",
              "    <path d=\"M120-120v-720h720v720H120Zm60-500h600v-160H180v160Zm220 220h160v-160H400v160Zm0 220h160v-160H400v160ZM180-400h160v-160H180v160Zm440 0h160v-160H620v160ZM180-180h160v-160H180v160Zm440 0h160v-160H620v160Z\"/>\n",
              "  </svg>\n",
              "    </button>\n",
              "\n",
              "  <style>\n",
              "    .colab-df-container {\n",
              "      display:flex;\n",
              "      gap: 12px;\n",
              "    }\n",
              "\n",
              "    .colab-df-convert {\n",
              "      background-color: #E8F0FE;\n",
              "      border: none;\n",
              "      border-radius: 50%;\n",
              "      cursor: pointer;\n",
              "      display: none;\n",
              "      fill: #1967D2;\n",
              "      height: 32px;\n",
              "      padding: 0 0 0 0;\n",
              "      width: 32px;\n",
              "    }\n",
              "\n",
              "    .colab-df-convert:hover {\n",
              "      background-color: #E2EBFA;\n",
              "      box-shadow: 0px 1px 2px rgba(60, 64, 67, 0.3), 0px 1px 3px 1px rgba(60, 64, 67, 0.15);\n",
              "      fill: #174EA6;\n",
              "    }\n",
              "\n",
              "    .colab-df-buttons div {\n",
              "      margin-bottom: 4px;\n",
              "    }\n",
              "\n",
              "    [theme=dark] .colab-df-convert {\n",
              "      background-color: #3B4455;\n",
              "      fill: #D2E3FC;\n",
              "    }\n",
              "\n",
              "    [theme=dark] .colab-df-convert:hover {\n",
              "      background-color: #434B5C;\n",
              "      box-shadow: 0px 1px 3px 1px rgba(0, 0, 0, 0.15);\n",
              "      filter: drop-shadow(0px 1px 2px rgba(0, 0, 0, 0.3));\n",
              "      fill: #FFFFFF;\n",
              "    }\n",
              "  </style>\n",
              "\n",
              "    <script>\n",
              "      const buttonEl =\n",
              "        document.querySelector('#df-dd52bb6a-6d36-4601-a570-128fe1048935 button.colab-df-convert');\n",
              "      buttonEl.style.display =\n",
              "        google.colab.kernel.accessAllowed ? 'block' : 'none';\n",
              "\n",
              "      async function convertToInteractive(key) {\n",
              "        const element = document.querySelector('#df-dd52bb6a-6d36-4601-a570-128fe1048935');\n",
              "        const dataTable =\n",
              "          await google.colab.kernel.invokeFunction('convertToInteractive',\n",
              "                                                    [key], {});\n",
              "        if (!dataTable) return;\n",
              "\n",
              "        const docLinkHtml = 'Like what you see? Visit the ' +\n",
              "          '<a target=\"_blank\" href=https://colab.research.google.com/notebooks/data_table.ipynb>data table notebook</a>'\n",
              "          + ' to learn more about interactive tables.';\n",
              "        element.innerHTML = '';\n",
              "        dataTable['output_type'] = 'display_data';\n",
              "        await google.colab.output.renderOutput(dataTable, element);\n",
              "        const docLink = document.createElement('div');\n",
              "        docLink.innerHTML = docLinkHtml;\n",
              "        element.appendChild(docLink);\n",
              "      }\n",
              "    </script>\n",
              "  </div>\n",
              "\n",
              "\n",
              "<div id=\"df-48cb9f7c-4b8f-4215-9f6c-43b8e9239e55\">\n",
              "  <button class=\"colab-df-quickchart\" onclick=\"quickchart('df-48cb9f7c-4b8f-4215-9f6c-43b8e9239e55')\"\n",
              "            title=\"Suggest charts\"\n",
              "            style=\"display:none;\">\n",
              "\n",
              "<svg xmlns=\"http://www.w3.org/2000/svg\" height=\"24px\"viewBox=\"0 0 24 24\"\n",
              "     width=\"24px\">\n",
              "    <g>\n",
              "        <path d=\"M19 3H5c-1.1 0-2 .9-2 2v14c0 1.1.9 2 2 2h14c1.1 0 2-.9 2-2V5c0-1.1-.9-2-2-2zM9 17H7v-7h2v7zm4 0h-2V7h2v10zm4 0h-2v-4h2v4z\"/>\n",
              "    </g>\n",
              "</svg>\n",
              "  </button>\n",
              "\n",
              "<style>\n",
              "  .colab-df-quickchart {\n",
              "      --bg-color: #E8F0FE;\n",
              "      --fill-color: #1967D2;\n",
              "      --hover-bg-color: #E2EBFA;\n",
              "      --hover-fill-color: #174EA6;\n",
              "      --disabled-fill-color: #AAA;\n",
              "      --disabled-bg-color: #DDD;\n",
              "  }\n",
              "\n",
              "  [theme=dark] .colab-df-quickchart {\n",
              "      --bg-color: #3B4455;\n",
              "      --fill-color: #D2E3FC;\n",
              "      --hover-bg-color: #434B5C;\n",
              "      --hover-fill-color: #FFFFFF;\n",
              "      --disabled-bg-color: #3B4455;\n",
              "      --disabled-fill-color: #666;\n",
              "  }\n",
              "\n",
              "  .colab-df-quickchart {\n",
              "    background-color: var(--bg-color);\n",
              "    border: none;\n",
              "    border-radius: 50%;\n",
              "    cursor: pointer;\n",
              "    display: none;\n",
              "    fill: var(--fill-color);\n",
              "    height: 32px;\n",
              "    padding: 0;\n",
              "    width: 32px;\n",
              "  }\n",
              "\n",
              "  .colab-df-quickchart:hover {\n",
              "    background-color: var(--hover-bg-color);\n",
              "    box-shadow: 0 1px 2px rgba(60, 64, 67, 0.3), 0 1px 3px 1px rgba(60, 64, 67, 0.15);\n",
              "    fill: var(--button-hover-fill-color);\n",
              "  }\n",
              "\n",
              "  .colab-df-quickchart-complete:disabled,\n",
              "  .colab-df-quickchart-complete:disabled:hover {\n",
              "    background-color: var(--disabled-bg-color);\n",
              "    fill: var(--disabled-fill-color);\n",
              "    box-shadow: none;\n",
              "  }\n",
              "\n",
              "  .colab-df-spinner {\n",
              "    border: 2px solid var(--fill-color);\n",
              "    border-color: transparent;\n",
              "    border-bottom-color: var(--fill-color);\n",
              "    animation:\n",
              "      spin 1s steps(1) infinite;\n",
              "  }\n",
              "\n",
              "  @keyframes spin {\n",
              "    0% {\n",
              "      border-color: transparent;\n",
              "      border-bottom-color: var(--fill-color);\n",
              "      border-left-color: var(--fill-color);\n",
              "    }\n",
              "    20% {\n",
              "      border-color: transparent;\n",
              "      border-left-color: var(--fill-color);\n",
              "      border-top-color: var(--fill-color);\n",
              "    }\n",
              "    30% {\n",
              "      border-color: transparent;\n",
              "      border-left-color: var(--fill-color);\n",
              "      border-top-color: var(--fill-color);\n",
              "      border-right-color: var(--fill-color);\n",
              "    }\n",
              "    40% {\n",
              "      border-color: transparent;\n",
              "      border-right-color: var(--fill-color);\n",
              "      border-top-color: var(--fill-color);\n",
              "    }\n",
              "    60% {\n",
              "      border-color: transparent;\n",
              "      border-right-color: var(--fill-color);\n",
              "    }\n",
              "    80% {\n",
              "      border-color: transparent;\n",
              "      border-right-color: var(--fill-color);\n",
              "      border-bottom-color: var(--fill-color);\n",
              "    }\n",
              "    90% {\n",
              "      border-color: transparent;\n",
              "      border-bottom-color: var(--fill-color);\n",
              "    }\n",
              "  }\n",
              "</style>\n",
              "\n",
              "  <script>\n",
              "    async function quickchart(key) {\n",
              "      const quickchartButtonEl =\n",
              "        document.querySelector('#' + key + ' button');\n",
              "      quickchartButtonEl.disabled = true;  // To prevent multiple clicks.\n",
              "      quickchartButtonEl.classList.add('colab-df-spinner');\n",
              "      try {\n",
              "        const charts = await google.colab.kernel.invokeFunction(\n",
              "            'suggestCharts', [key], {});\n",
              "      } catch (error) {\n",
              "        console.error('Error during call to suggestCharts:', error);\n",
              "      }\n",
              "      quickchartButtonEl.classList.remove('colab-df-spinner');\n",
              "      quickchartButtonEl.classList.add('colab-df-quickchart-complete');\n",
              "    }\n",
              "    (() => {\n",
              "      let quickchartButtonEl =\n",
              "        document.querySelector('#df-48cb9f7c-4b8f-4215-9f6c-43b8e9239e55 button');\n",
              "      quickchartButtonEl.style.display =\n",
              "        google.colab.kernel.accessAllowed ? 'block' : 'none';\n",
              "    })();\n",
              "  </script>\n",
              "</div>\n",
              "    </div>\n",
              "  </div>\n"
            ],
            "application/vnd.google.colaboratory.intrinsic+json": {
              "type": "dataframe",
              "summary": "{\n  \"name\": \"df\",\n  \"rows\": 5,\n  \"fields\": [\n    {\n      \"column\": \"GDP per capita\",\n      \"properties\": {\n        \"dtype\": \"number\",\n        \"std\": 0.4038926762618366,\n        \"min\": 0.06316901451439129,\n        \"max\": 1.0,\n        \"num_unique_values\": 5,\n        \"samples\": [\n          0.06316901451439129,\n          0.09494718897298718,\n          0.07603565747731765\n        ],\n        \"semantic_type\": \"\",\n        \"description\": \"\"\n      }\n    },\n    {\n      \"column\": \"Population\",\n      \"properties\": {\n        \"dtype\": \"number\",\n        \"std\": 0.4098860278049175,\n        \"min\": -0.02844887483608791,\n        \"max\": 1.0,\n        \"num_unique_values\": 5,\n        \"samples\": [\n          1.0,\n          -0.02844887483608791,\n          0.510185875712917\n        ],\n        \"semantic_type\": \"\",\n        \"description\": \"\"\n      }\n    },\n    {\n      \"column\": \"CO2 emission\",\n      \"properties\": {\n        \"dtype\": \"number\",\n        \"std\": 0.41498143129388854,\n        \"min\": -0.021339035546575454,\n        \"max\": 1.0,\n        \"num_unique_values\": 5,\n        \"samples\": [\n          0.510185875712917,\n          -0.021339035546575454,\n          1.0\n        ],\n        \"semantic_type\": \"\",\n        \"description\": \"\"\n      }\n    },\n    {\n      \"column\": \"Area\",\n      \"properties\": {\n        \"dtype\": \"number\",\n        \"std\": 0.4073568394834169,\n        \"min\": -0.06413818163048443,\n        \"max\": 1.0,\n        \"num_unique_values\": 5,\n        \"samples\": [\n          0.4535000276671172,\n          -0.06413818163048443,\n          0.5989652323726488\n        ],\n        \"semantic_type\": \"\",\n        \"description\": \"\"\n      }\n    },\n    {\n      \"column\": \"Population density\",\n      \"properties\": {\n        \"dtype\": \"number\",\n        \"std\": 0.45329705751807425,\n        \"min\": -0.06413818163048443,\n        \"max\": 1.0,\n        \"num_unique_values\": 5,\n        \"samples\": [\n          -0.02844887483608791,\n          1.0,\n          -0.021339035546575454\n        ],\n        \"semantic_type\": \"\",\n        \"description\": \"\"\n      }\n    }\n  ]\n}"
            }
          },
          "metadata": {},
          "execution_count": 41
        }
      ],
      "source": [
        "df.select_dtypes(include=['int', 'float']).corr()"
      ]
    },
    {
      "cell_type": "markdown",
      "metadata": {
        "id": "2HLbe6CprXYn"
      },
      "source": [
        "<a name=\"task3\"></a>\n",
        "<div class=\"alert alert-danger alertdanger\" style=\"margin-top: 20px\">\n",
        "\n",
        "## <h2 id=\"task3\">Завдання  #3: </h2>\n",
        "\n",
        "<p>Побудувати діаграми розсіювання для кількісних ознак та 'CO2 emission'. Побудувати діаграму розмаху для 'CO2 emission' по регіонам. </p>\n",
        "<p>Візуально оцініть наявність та силу зв'язку між цими ознаками.</p>\n",
        "</div>\n"
      ]
    },
    {
      "cell_type": "markdown",
      "metadata": {
        "id": "ysy75XjirXYn"
      },
      "source": [
        "Будую діаграму розсіювання для кількісних ознак та 'CO2 emission'"
      ]
    },
    {
      "cell_type": "code",
      "execution_count": 42,
      "metadata": {
        "id": "nrecpaJ2rXYo",
        "colab": {
          "base_uri": "https://localhost:8080/",
          "height": 1000
        },
        "outputId": "1dc938e8-1248-4d8a-f2df-fde050f311bd"
      },
      "outputs": [
        {
          "output_type": "display_data",
          "data": {
            "text/plain": [
              "<Figure size 800x600 with 1 Axes>"
            ],
            "image/png": "[encoded data removed]"
          },
          "metadata": {}
        },
        {
          "output_type": "display_data",
          "data": {
            "text/plain": [
              "<Figure size 800x600 with 1 Axes>"
            ],
            "image/png": "[encoded data removed]"
          },
          "metadata": {}
        },
        {
          "output_type": "display_data",
          "data": {
            "text/plain": [
              "<Figure size 800x600 with 1 Axes>"
            ],
            "image/png": "[encoded data removed]"
          },
          "metadata": {}
        },
        {
          "output_type": "display_data",
          "data": {
            "text/plain": [
              "<Figure size 800x600 with 1 Axes>"
            ],
            "image/png": "[encoded data removed]"
          },
          "metadata": {}
        }
      ],
      "source": [
        "columns = ['Population density', 'Population', 'Area', 'GDP per capita']\n",
        "\n",
        "for x in columns:\n",
        "     plt.figure(figsize=(8, 6))\n",
        "     sns.regplot(x=x, y='CO2 emission', data=df)\n",
        "     plt.grid(True)\n",
        "     plt.xlabel(x)\n",
        "     plt.ylabel('CO2 emission')\n",
        "     plt.show()"
      ]
    },
    {
      "cell_type": "markdown",
      "metadata": {
        "id": "fIhbEtNArXYo"
      },
      "source": [
        "Будую діаграму розмаху для 'CO2 emission' по регіонам"
      ]
    },
    {
      "cell_type": "code",
      "execution_count": 43,
      "metadata": {
        "id": "mrxSI7WPrXYo",
        "colab": {
          "base_uri": "https://localhost:8080/",
          "height": 482
        },
        "outputId": "7615b355-1e4b-46a8-8447-e287ffcfc68d"
      },
      "outputs": [
        {
          "output_type": "execute_result",
          "data": {
            "text/plain": [
              "<Axes: xlabel='Region', ylabel='CO2 emission'>"
            ]
          },
          "metadata": {},
          "execution_count": 43
        },
        {
          "output_type": "display_data",
          "data": {
            "text/plain": [
              "<Figure size 640x480 with 1 Axes>"
            ],
            "image/png": "[encoded data removed]"
          },
          "metadata": {}
        }
      ],
      "source": [
        "sns.boxplot(x='Region', y='CO2 emission', data=df)"
      ]
    },
    {
      "cell_type": "markdown",
      "metadata": {
        "id": "Zgy3tkCPrXYo"
      },
      "source": [
        "<a name=\"task4\"></a>\n",
        "<div class=\"alert alert-danger alertdanger\" style=\"margin-top: 20px\">\n",
        "\n",
        "## <h2 id=\"task4\">Завдання  #4: </h2>\n",
        "\n",
        "<p>Які кількісні ознаки можуть бути предикторами кількості викидів СО2?</p>\n",
        "</div>\n"
      ]
    },
    {
      "cell_type": "markdown",
      "metadata": {
        "id": "k_9Q6V9yrXYo"
      },
      "source": [
        "Обчислюю коефіцієнт кореляції Пірсона та P-value для всіх кількісних змінних та 'CO2 emission'"
      ]
    },
    {
      "cell_type": "markdown",
      "source": [
        "Коефіцієнт кореляції Пірсона"
      ],
      "metadata": {
        "id": "Z41RU86OdfMu"
      }
    },
    {
      "cell_type": "code",
      "execution_count": 44,
      "metadata": {
        "id": "bXB9ps4orXYo",
        "colab": {
          "base_uri": "https://localhost:8080/"
        },
        "outputId": "56b062be-0b77-4800-8c41-0fd6011cd327"
      },
      "outputs": [
        {
          "output_type": "stream",
          "name": "stdout",
          "text": [
            "The Pearson Correlation Coefficient is -0.021339035546575458  with a P-value of P = 0.7546121855986065\n"
          ]
        }
      ],
      "source": [
        "from scipy import stats\n",
        "pearson_coef, p_value = stats.pearsonr(df['Population density'], df['CO2 emission'])\n",
        "print(\"The Pearson Correlation Coefficient is\", pearson_coef, \" with a P-value of P =\", p_value)"
      ]
    },
    {
      "cell_type": "markdown",
      "source": [
        "Оскільки p-value>0.1 немає доказів того, що кореляція є значною, а лінійний зв'язок негативний та слабкий(~-0.017)."
      ],
      "metadata": {
        "id": "P_l-xgKUeAKq"
      }
    },
    {
      "cell_type": "code",
      "source": [
        "pearson_coef, p_value = stats.pearsonr(df['Population'], df['CO2 emission'])\n",
        "print(\"The Pearson Correlation Coefficient is\", pearson_coef, \" with a P-value of P =\", p_value)"
      ],
      "metadata": {
        "colab": {
          "base_uri": "https://localhost:8080/"
        },
        "id": "KbHb4dvkeBYH",
        "outputId": "c9135626-f846-45a2-aac9-b55c387f5921"
      },
      "execution_count": 45,
      "outputs": [
        {
          "output_type": "stream",
          "name": "stdout",
          "text": [
            "The Pearson Correlation Coefficient is 0.5101858757129176  with a P-value of P = 8.832973445863518e-16\n"
          ]
        }
      ]
    },
    {
      "cell_type": "markdown",
      "source": [
        "Оскільки p-value<0.001 є вагомі докази того, що кореляція є значною, а лінійний зв'язок досить сильний(~0.802)."
      ],
      "metadata": {
        "id": "xyFVxJqjeGtt"
      }
    },
    {
      "cell_type": "code",
      "source": [
        "pearson_coef, p_value = stats.pearsonr(df['Area'], df['CO2 emission'])\n",
        "print(\"The Pearson Correlation Coefficient is\", pearson_coef, \" with a P-value of P =\", p_value)"
      ],
      "metadata": {
        "colab": {
          "base_uri": "https://localhost:8080/"
        },
        "id": "A-roUk-DeHs_",
        "outputId": "16955e23-0e61-4e99-c7e3-2f5d4e5937ff"
      },
      "execution_count": 46,
      "outputs": [
        {
          "output_type": "stream",
          "name": "stdout",
          "text": [
            "The Pearson Correlation Coefficient is 0.5989652323726484  with a P-value of P = 1.6183392964791586e-22\n"
          ]
        }
      ]
    },
    {
      "cell_type": "markdown",
      "source": [
        "Оскільки p-value<0.001 є вагомі докази того, що кореляція є значною, а лінійний зв'язок помірно сильний(~0.586)."
      ],
      "metadata": {
        "id": "F-7V7Gs9eJeh"
      }
    },
    {
      "cell_type": "code",
      "source": [
        "pearson_coef, p_value = stats.pearsonr(df['GDP per capita'], df['CO2 emission'])\n",
        "print(\"The Pearson Correlation Coefficient is\", pearson_coef, \" with a P-value of P =\", p_value)"
      ],
      "metadata": {
        "colab": {
          "base_uri": "https://localhost:8080/"
        },
        "id": "CqUOImwweLwZ",
        "outputId": "05165613-3ffc-42b4-a265-8c3c7834bf4d"
      },
      "execution_count": 47,
      "outputs": [
        {
          "output_type": "stream",
          "name": "stdout",
          "text": [
            "The Pearson Correlation Coefficient is 0.07603565747731764  with a P-value of P = 0.2647556446075111\n"
          ]
        }
      ]
    },
    {
      "cell_type": "markdown",
      "source": [
        "Оскільки p-value>0.1 немає доказів того, що кореляція є значною, а лінійний зв'язок слабкий(~0.089)."
      ],
      "metadata": {
        "id": "qT1_-iMKeN61"
      }
    },
    {
      "cell_type": "markdown",
      "metadata": {
        "id": "_koCfIkSrXYp"
      },
      "source": [
        "<a name=\"task5\"></a>\n",
        "<div class=\"alert alert-danger alertdanger\" style=\"margin-top: 20px\">\n",
        "\n",
        "## <h2 id=\"task5\">Завдання  #5: </h2>\n",
        "\n",
        "<p>Виконати дисперсійний аналіз для кількості викидів СО2, згрупувати дані по регіонам</p>\n",
        "</div>\n"
      ]
    },
    {
      "cell_type": "markdown",
      "metadata": {
        "id": "SIUji9rvrXYp"
      },
      "source": [
        "Групую дані, щоб побачити чи впливає 'Region' на 'CO2 emission'."
      ]
    },
    {
      "cell_type": "code",
      "execution_count": 48,
      "metadata": {
        "id": "VRS7sbn1rXYp",
        "colab": {
          "base_uri": "https://localhost:8080/",
          "height": 300
        },
        "outputId": "5a97d2f5-05a4-4284-9d21-9334e78470fb"
      },
      "outputs": [
        {
          "output_type": "execute_result",
          "data": {
            "text/plain": [
              "                            CO2 emission\n",
              "Region                                  \n",
              "East Asia & Pacific         1.371923e+08\n",
              "Europe & Central Asia       1.101854e+08\n",
              "Latin America & Caribbean   3.655352e+07\n",
              "Middle East & North Africa  1.276903e+08\n",
              "North America               1.930683e+09\n",
              "South Asia                  2.949423e+08\n",
              "Sub-Saharan Africa          1.586642e+07"
            ],
            "text/html": [
              "\n",
              "  <div id=\"df-84d57931-2941-48b4-b690-8b649f74ba7c\" class=\"colab-df-container\">\n",
              "    <div>\n",
              "<style scoped>\n",
              "    .dataframe tbody tr th:only-of-type {\n",
              "        vertical-align: middle;\n",
              "    }\n",
              "\n",
              "    .dataframe tbody tr th {\n",
              "        vertical-align: top;\n",
              "    }\n",
              "\n",
              "    .dataframe thead th {\n",
              "        text-align: right;\n",
              "    }\n",
              "</style>\n",
              "<table border=\"1\" class=\"dataframe\">\n",
              "  <thead>\n",
              "    <tr style=\"text-align: right;\">\n",
              "      <th></th>\n",
              "      <th>CO2 emission</th>\n",
              "    </tr>\n",
              "    <tr>\n",
              "      <th>Region</th>\n",
              "      <th></th>\n",
              "    </tr>\n",
              "  </thead>\n",
              "  <tbody>\n",
              "    <tr>\n",
              "      <th>East Asia &amp; Pacific</th>\n",
              "      <td>1.371923e+08</td>\n",
              "    </tr>\n",
              "    <tr>\n",
              "      <th>Europe &amp; Central Asia</th>\n",
              "      <td>1.101854e+08</td>\n",
              "    </tr>\n",
              "    <tr>\n",
              "      <th>Latin America &amp; Caribbean</th>\n",
              "      <td>3.655352e+07</td>\n",
              "    </tr>\n",
              "    <tr>\n",
              "      <th>Middle East &amp; North Africa</th>\n",
              "      <td>1.276903e+08</td>\n",
              "    </tr>\n",
              "    <tr>\n",
              "      <th>North America</th>\n",
              "      <td>1.930683e+09</td>\n",
              "    </tr>\n",
              "    <tr>\n",
              "      <th>South Asia</th>\n",
              "      <td>2.949423e+08</td>\n",
              "    </tr>\n",
              "    <tr>\n",
              "      <th>Sub-Saharan Africa</th>\n",
              "      <td>1.586642e+07</td>\n",
              "    </tr>\n",
              "  </tbody>\n",
              "</table>\n",
              "</div>\n",
              "    <div class=\"colab-df-buttons\">\n",
              "\n",
              "  <div class=\"colab-df-container\">\n",
              "    <button class=\"colab-df-convert\" onclick=\"convertToInteractive('df-84d57931-2941-48b4-b690-8b649f74ba7c')\"\n",
              "            title=\"Convert this dataframe to an interactive table.\"\n",
              "            style=\"display:none;\">\n",
              "\n",
              "  <svg xmlns=\"http://www.w3.org/2000/svg\" height=\"24px\" viewBox=\"0 -960 960 960\">\n",
              "    <path d=\"M120-120v-720h720v720H120Zm60-500h600v-160H180v160Zm220 220h160v-160H400v160Zm0 220h160v-160H400v160ZM180-400h160v-160H180v160Zm440 0h160v-160H620v160ZM180-180h160v-160H180v160Zm440 0h160v-160H620v160Z\"/>\n",
              "  </svg>\n",
              "    </button>\n",
              "\n",
              "  <style>\n",
              "    .colab-df-container {\n",
              "      display:flex;\n",
              "      gap: 12px;\n",
              "    }\n",
              "\n",
              "    .colab-df-convert {\n",
              "      background-color: #E8F0FE;\n",
              "      border: none;\n",
              "      border-radius: 50%;\n",
              "      cursor: pointer;\n",
              "      display: none;\n",
              "      fill: #1967D2;\n",
              "      height: 32px;\n",
              "      padding: 0 0 0 0;\n",
              "      width: 32px;\n",
              "    }\n",
              "\n",
              "    .colab-df-convert:hover {\n",
              "      background-color: #E2EBFA;\n",
              "      box-shadow: 0px 1px 2px rgba(60, 64, 67, 0.3), 0px 1px 3px 1px rgba(60, 64, 67, 0.15);\n",
              "      fill: #174EA6;\n",
              "    }\n",
              "\n",
              "    .colab-df-buttons div {\n",
              "      margin-bottom: 4px;\n",
              "    }\n",
              "\n",
              "    [theme=dark] .colab-df-convert {\n",
              "      background-color: #3B4455;\n",
              "      fill: #D2E3FC;\n",
              "    }\n",
              "\n",
              "    [theme=dark] .colab-df-convert:hover {\n",
              "      background-color: #434B5C;\n",
              "      box-shadow: 0px 1px 3px 1px rgba(0, 0, 0, 0.15);\n",
              "      filter: drop-shadow(0px 1px 2px rgba(0, 0, 0, 0.3));\n",
              "      fill: #FFFFFF;\n",
              "    }\n",
              "  </style>\n",
              "\n",
              "    <script>\n",
              "      const buttonEl =\n",
              "        document.querySelector('#df-84d57931-2941-48b4-b690-8b649f74ba7c button.colab-df-convert');\n",
              "      buttonEl.style.display =\n",
              "        google.colab.kernel.accessAllowed ? 'block' : 'none';\n",
              "\n",
              "      async function convertToInteractive(key) {\n",
              "        const element = document.querySelector('#df-84d57931-2941-48b4-b690-8b649f74ba7c');\n",
              "        const dataTable =\n",
              "          await google.colab.kernel.invokeFunction('convertToInteractive',\n",
              "                                                    [key], {});\n",
              "        if (!dataTable) return;\n",
              "\n",
              "        const docLinkHtml = 'Like what you see? Visit the ' +\n",
              "          '<a target=\"_blank\" href=https://colab.research.google.com/notebooks/data_table.ipynb>data table notebook</a>'\n",
              "          + ' to learn more about interactive tables.';\n",
              "        element.innerHTML = '';\n",
              "        dataTable['output_type'] = 'display_data';\n",
              "        await google.colab.output.renderOutput(dataTable, element);\n",
              "        const docLink = document.createElement('div');\n",
              "        docLink.innerHTML = docLinkHtml;\n",
              "        element.appendChild(docLink);\n",
              "      }\n",
              "    </script>\n",
              "  </div>\n",
              "\n",
              "\n",
              "<div id=\"df-f596225d-0401-4853-ae07-f58612d12d3e\">\n",
              "  <button class=\"colab-df-quickchart\" onclick=\"quickchart('df-f596225d-0401-4853-ae07-f58612d12d3e')\"\n",
              "            title=\"Suggest charts\"\n",
              "            style=\"display:none;\">\n",
              "\n",
              "<svg xmlns=\"http://www.w3.org/2000/svg\" height=\"24px\"viewBox=\"0 0 24 24\"\n",
              "     width=\"24px\">\n",
              "    <g>\n",
              "        <path d=\"M19 3H5c-1.1 0-2 .9-2 2v14c0 1.1.9 2 2 2h14c1.1 0 2-.9 2-2V5c0-1.1-.9-2-2-2zM9 17H7v-7h2v7zm4 0h-2V7h2v10zm4 0h-2v-4h2v4z\"/>\n",
              "    </g>\n",
              "</svg>\n",
              "  </button>\n",
              "\n",
              "<style>\n",
              "  .colab-df-quickchart {\n",
              "      --bg-color: #E8F0FE;\n",
              "      --fill-color: #1967D2;\n",
              "      --hover-bg-color: #E2EBFA;\n",
              "      --hover-fill-color: #174EA6;\n",
              "      --disabled-fill-color: #AAA;\n",
              "      --disabled-bg-color: #DDD;\n",
              "  }\n",
              "\n",
              "  [theme=dark] .colab-df-quickchart {\n",
              "      --bg-color: #3B4455;\n",
              "      --fill-color: #D2E3FC;\n",
              "      --hover-bg-color: #434B5C;\n",
              "      --hover-fill-color: #FFFFFF;\n",
              "      --disabled-bg-color: #3B4455;\n",
              "      --disabled-fill-color: #666;\n",
              "  }\n",
              "\n",
              "  .colab-df-quickchart {\n",
              "    background-color: var(--bg-color);\n",
              "    border: none;\n",
              "    border-radius: 50%;\n",
              "    cursor: pointer;\n",
              "    display: none;\n",
              "    fill: var(--fill-color);\n",
              "    height: 32px;\n",
              "    padding: 0;\n",
              "    width: 32px;\n",
              "  }\n",
              "\n",
              "  .colab-df-quickchart:hover {\n",
              "    background-color: var(--hover-bg-color);\n",
              "    box-shadow: 0 1px 2px rgba(60, 64, 67, 0.3), 0 1px 3px 1px rgba(60, 64, 67, 0.15);\n",
              "    fill: var(--button-hover-fill-color);\n",
              "  }\n",
              "\n",
              "  .colab-df-quickchart-complete:disabled,\n",
              "  .colab-df-quickchart-complete:disabled:hover {\n",
              "    background-color: var(--disabled-bg-color);\n",
              "    fill: var(--disabled-fill-color);\n",
              "    box-shadow: none;\n",
              "  }\n",
              "\n",
              "  .colab-df-spinner {\n",
              "    border: 2px solid var(--fill-color);\n",
              "    border-color: transparent;\n",
              "    border-bottom-color: var(--fill-color);\n",
              "    animation:\n",
              "      spin 1s steps(1) infinite;\n",
              "  }\n",
              "\n",
              "  @keyframes spin {\n",
              "    0% {\n",
              "      border-color: transparent;\n",
              "      border-bottom-color: var(--fill-color);\n",
              "      border-left-color: var(--fill-color);\n",
              "    }\n",
              "    20% {\n",
              "      border-color: transparent;\n",
              "      border-left-color: var(--fill-color);\n",
              "      border-top-color: var(--fill-color);\n",
              "    }\n",
              "    30% {\n",
              "      border-color: transparent;\n",
              "      border-left-color: var(--fill-color);\n",
              "      border-top-color: var(--fill-color);\n",
              "      border-right-color: var(--fill-color);\n",
              "    }\n",
              "    40% {\n",
              "      border-color: transparent;\n",
              "      border-right-color: var(--fill-color);\n",
              "      border-top-color: var(--fill-color);\n",
              "    }\n",
              "    60% {\n",
              "      border-color: transparent;\n",
              "      border-right-color: var(--fill-color);\n",
              "    }\n",
              "    80% {\n",
              "      border-color: transparent;\n",
              "      border-right-color: var(--fill-color);\n",
              "      border-bottom-color: var(--fill-color);\n",
              "    }\n",
              "    90% {\n",
              "      border-color: transparent;\n",
              "      border-bottom-color: var(--fill-color);\n",
              "    }\n",
              "  }\n",
              "</style>\n",
              "\n",
              "  <script>\n",
              "    async function quickchart(key) {\n",
              "      const quickchartButtonEl =\n",
              "        document.querySelector('#' + key + ' button');\n",
              "      quickchartButtonEl.disabled = true;  // To prevent multiple clicks.\n",
              "      quickchartButtonEl.classList.add('colab-df-spinner');\n",
              "      try {\n",
              "        const charts = await google.colab.kernel.invokeFunction(\n",
              "            'suggestCharts', [key], {});\n",
              "      } catch (error) {\n",
              "        console.error('Error during call to suggestCharts:', error);\n",
              "      }\n",
              "      quickchartButtonEl.classList.remove('colab-df-spinner');\n",
              "      quickchartButtonEl.classList.add('colab-df-quickchart-complete');\n",
              "    }\n",
              "    (() => {\n",
              "      let quickchartButtonEl =\n",
              "        document.querySelector('#df-f596225d-0401-4853-ae07-f58612d12d3e button');\n",
              "      quickchartButtonEl.style.display =\n",
              "        google.colab.kernel.accessAllowed ? 'block' : 'none';\n",
              "    })();\n",
              "  </script>\n",
              "</div>\n",
              "    </div>\n",
              "  </div>\n"
            ],
            "application/vnd.google.colaboratory.intrinsic+json": {
              "type": "dataframe",
              "summary": "{\n  \"name\": \"group\",\n  \"rows\": 7,\n  \"fields\": [\n    {\n      \"column\": \"Region\",\n      \"properties\": {\n        \"dtype\": \"string\",\n        \"num_unique_values\": 7,\n        \"samples\": [\n          \"East Asia & Pacific\",\n          \"Europe & Central Asia\",\n          \"South Asia\"\n        ],\n        \"semantic_type\": \"\",\n        \"description\": \"\"\n      }\n    },\n    {\n      \"column\": \"CO2 emission\",\n      \"properties\": {\n        \"dtype\": \"number\",\n        \"std\": 690146086.7391763,\n        \"min\": 15866421.4375,\n        \"max\": 1930682834.0,\n        \"num_unique_values\": 7,\n        \"samples\": [\n          137192307.83783785,\n          110185390.46551724,\n          294942310.5\n        ],\n        \"semantic_type\": \"\",\n        \"description\": \"\"\n      }\n    }\n  ]\n}"
            }
          },
          "metadata": {},
          "execution_count": 48
        }
      ],
      "source": [
        "group = df[['Region', 'CO2 emission']].groupby(['Region'])\n",
        "group.mean()"
      ]
    },
    {
      "cell_type": "markdown",
      "metadata": {
        "id": "NrhaZMMjrXYp"
      },
      "source": [
        "Скористаюсь функцією <code>f_oneway</code> з модуля \"stats\" для отримання F-test score та P-value."
      ]
    },
    {
      "cell_type": "code",
      "execution_count": 49,
      "metadata": {
        "id": "cK8GWl9ErXYp",
        "colab": {
          "base_uri": "https://localhost:8080/"
        },
        "outputId": "dde51d41-8972-453b-bb4c-1532fa37830d"
      },
      "outputs": [
        {
          "output_type": "stream",
          "name": "stdout",
          "text": [
            "ANOVA results: F = 13.40825637820344, P = 7.422419330168106e-13\n"
          ]
        }
      ],
      "source": [
        "regions = df['Region'].unique().tolist()\n",
        "co2_emission_by_region = [df[df['Region'] == region]['CO2 emission'] for region\n",
        "in regions]\n",
        "f_val, p_val = stats.f_oneway(*co2_emission_by_region)\n",
        "print(f\"ANOVA results: F = {f_val}, P = {p_val}\")"
      ]
    },
    {
      "cell_type": "markdown",
      "metadata": {
        "id": "O_HnqIfmrXYp"
      },
      "source": [
        "Результат із ... показником тесту, який показує  ... кореляцію, і P-value     ... , що  ... . Але чи означає це, що досліджувані групи ... корелюють між собою?\n",
        "\n",
        "Розглянемо їх окремо."
      ]
    },
    {
      "cell_type": "code",
      "execution_count": 50,
      "metadata": {
        "id": "AE9VsE3hrXYq",
        "colab": {
          "base_uri": "https://localhost:8080/"
        },
        "outputId": "35c6e946-0879-4f06-8a90-c9a9010eda85"
      },
      "outputs": [
        {
          "output_type": "stream",
          "name": "stdout",
          "text": [
            "['South Asia', 'Europe & Central Asia', 'Middle East & North Africa', 'East Asia & Pacific', 'Sub-Saharan Africa', 'Latin America & Caribbean', 'North America']\n"
          ]
        }
      ],
      "source": [
        "print(regions)"
      ]
    },
    {
      "cell_type": "code",
      "source": [
        "statistic, pvalue = stats.shapiro(df[df['Region'] == 'South Asia']['CO2 emission'].values)\n",
        "print(f\"For South Asia:\\nStatistic: {statistic}\\nP-value: {pvalue}\")"
      ],
      "metadata": {
        "colab": {
          "base_uri": "https://localhost:8080/"
        },
        "id": "Y16ckH7yek_L",
        "outputId": "ce87e090-0493-4a21-8986-0b5a1d37f1c1"
      },
      "execution_count": 51,
      "outputs": [
        {
          "output_type": "stream",
          "name": "stdout",
          "text": [
            "For South Asia:\n",
            "Statistic: 0.440832257270813\n",
            "P-value: 1.9755077573790913e-06\n"
          ]
        }
      ]
    },
    {
      "cell_type": "markdown",
      "source": [
        "Оскільки p-value < 0.05 кореляція між змінними є статистично значуща."
      ],
      "metadata": {
        "id": "MA5TMnw6em3z"
      }
    },
    {
      "cell_type": "code",
      "source": [
        "statistic, pvalue = stats.shapiro(df[df['Region'] == 'Europe & Central Asia']['CO2 emission'].values)\n",
        "print(f\"For Europe & Central Asia:\\nStatistic: {statistic}\\nP-value: {pvalue}\")"
      ],
      "metadata": {
        "colab": {
          "base_uri": "https://localhost:8080/"
        },
        "id": "9ke_rRvcenM6",
        "outputId": "feddfe04-3277-4a0b-efb2-2a76412fb902"
      },
      "execution_count": 52,
      "outputs": [
        {
          "output_type": "stream",
          "name": "stdout",
          "text": [
            "For Europe & Central Asia:\n",
            "Statistic: 0.4319702982902527\n",
            "P-value: 1.236109603347177e-13\n"
          ]
        }
      ]
    },
    {
      "cell_type": "markdown",
      "source": [
        "Оскільки p-value < 0.05 кореляція між змінними є статистично значуща."
      ],
      "metadata": {
        "id": "_SRhybcUetmL"
      }
    },
    {
      "cell_type": "code",
      "source": [
        "statistic, pvalue = stats.shapiro(df[df['Region'] == 'Middle East & North Africa']['CO2 emission'].values)\n",
        "print(f\"For Middle East & North Africa:\\nStatistic: {statistic}\\nP-value: {pvalue}\")"
      ],
      "metadata": {
        "colab": {
          "base_uri": "https://localhost:8080/"
        },
        "id": "AOzgLOSxeuko",
        "outputId": "d9fbeb6e-da79-4d51-bad0-8699e62884f0"
      },
      "execution_count": 53,
      "outputs": [
        {
          "output_type": "stream",
          "name": "stdout",
          "text": [
            "For Middle East & North Africa:\n",
            "Statistic: 0.6593136191368103\n",
            "P-value: 8.927770977606997e-06\n"
          ]
        }
      ]
    },
    {
      "cell_type": "markdown",
      "source": [
        "Оскільки p-value < 0.05 кореляція між змінними є статистично значуща."
      ],
      "metadata": {
        "id": "FNFeoIZ-ewW1"
      }
    },
    {
      "cell_type": "code",
      "source": [
        "statistic, pvalue = stats.shapiro(df[df['Region'] == 'Sub-Saharan Africa']['CO2 emission'].values)\n",
        "print(f\"For Sub-Saharan Africa:\\nStatistic: {statistic}\\nP-value: {pvalue}\")"
      ],
      "metadata": {
        "colab": {
          "base_uri": "https://localhost:8080/"
        },
        "id": "MPehbKbLfJJU",
        "outputId": "60e0774d-be0e-4a0c-b5ac-f5b72ba7475f"
      },
      "execution_count": 54,
      "outputs": [
        {
          "output_type": "stream",
          "name": "stdout",
          "text": [
            "For Sub-Saharan Africa:\n",
            "Statistic: 0.20149123668670654\n",
            "P-value: 1.0403956613325854e-14\n"
          ]
        }
      ]
    },
    {
      "cell_type": "markdown",
      "source": [
        "Оскільки p-value < 0.05 кореляція між змінними є статистично значуща."
      ],
      "metadata": {
        "id": "rlqlVyOHfOgF"
      }
    },
    {
      "cell_type": "code",
      "source": [
        "statistic, pvalue = stats.shapiro(df[df['Region'] == 'Latin America & Caribbean']['CO2 emission'].values)\n",
        "print(f\"For Latin America & Caribbean:\\nStatistic: {statistic}\\nP-value: {pvalue}\")"
      ],
      "metadata": {
        "colab": {
          "base_uri": "https://localhost:8080/"
        },
        "id": "uCA0sqLSfPEs",
        "outputId": "77e7d33e-31bf-4b88-fad2-be37d39f4bcd"
      },
      "execution_count": 55,
      "outputs": [
        {
          "output_type": "stream",
          "name": "stdout",
          "text": [
            "For Latin America & Caribbean:\n",
            "Statistic: 0.4813225269317627\n",
            "P-value: 5.4223577017342706e-11\n"
          ]
        }
      ]
    },
    {
      "cell_type": "markdown",
      "source": [
        "Оскільки p-value < 0.05 кореляція між змінними є статистично значуща."
      ],
      "metadata": {
        "id": "PxkdL0-EfUJS"
      }
    },
    {
      "cell_type": "code",
      "source": [
        "statistic, pvalue = stats.shapiro(df[df['Region'] == 'North America']['CO2 emission'].values)\n",
        "print(f\"For North America:\\nStatistic: {statistic}\\nP-value: {pvalue}\")"
      ],
      "metadata": {
        "colab": {
          "base_uri": "https://localhost:8080/"
        },
        "id": "sVjZpoUpfUwc",
        "outputId": "8e9b6888-e4b5-4e59-ee49-c74f290f6a10"
      },
      "execution_count": 56,
      "outputs": [
        {
          "output_type": "stream",
          "name": "stdout",
          "text": [
            "For North America:\n",
            "Statistic: 0.8257257342338562\n",
            "P-value: 0.17751876623135032\n"
          ]
        }
      ]
    },
    {
      "cell_type": "markdown",
      "source": [
        "Оскільки p-value > 0.05 а немає статистично значущої кореляції між змінними."
      ],
      "metadata": {
        "id": "olJmi6nafWVA"
      }
    },
    {
      "cell_type": "markdown",
      "source": [
        "В усіх групах, крім останньої, дані мають розподіл що відрізняється від нормального. Тому для дисперсійного аналізу скористаємось непараметричним аналогом ANOVA - тестом Краскела-Уоліса."
      ],
      "metadata": {
        "id": "vuaKbWqQfaEY"
      }
    },
    {
      "cell_type": "code",
      "source": [
        "f_val, p_val = stats.kruskal(\n",
        " *[group.get_group(region)['CO2 emission'] for region in regions]\n",
        ")\n",
        "print(f\"Kruskal-Wallis test: F = {f_val} P = {p_val}\")"
      ],
      "metadata": {
        "colab": {
          "base_uri": "https://localhost:8080/"
        },
        "id": "z-FCrDP7fexw",
        "outputId": "40c9f59d-eab8-4523-c951-4af7140385a1"
      },
      "execution_count": 57,
      "outputs": [
        {
          "output_type": "stream",
          "name": "stdout",
          "text": [
            "Kruskal-Wallis test: F = 40.48111066326459 P = 3.6635472492458896e-07\n"
          ]
        }
      ]
    },
    {
      "cell_type": "code",
      "source": [
        "for i in range(len(regions)):\n",
        " for j in range(i + 1, len(regions)):\n",
        "     group1 = group.get_group(regions[i])['CO2 emission']\n",
        "     group2 = group.get_group(regions[j])['CO2 emission']\n",
        "     f_val, p_val = stats.f_oneway(group1, group2)\n",
        "     print(f\"{regions[i]} and {regions[j]}:\\nF-statistic: {f_val}\\np-value: {p_val}\\n\")"
      ],
      "metadata": {
        "colab": {
          "base_uri": "https://localhost:8080/"
        },
        "id": "5uNU2hgWfj7V",
        "outputId": "11aec306-c1a0-4f10-b3fb-45733cdf676c"
      },
      "execution_count": 58,
      "outputs": [
        {
          "output_type": "stream",
          "name": "stdout",
          "text": [
            "South Asia and Europe & Central Asia:\n",
            "F-statistic: 1.9633605006547024\n",
            "p-value: 0.1659849908311847\n",
            "\n",
            "South Asia and Middle East & North Africa:\n",
            "F-statistic: 0.8841905687423897\n",
            "p-value: 0.3553936327703795\n",
            "\n",
            "South Asia and East Asia & Pacific:\n",
            "F-statistic: 0.9922330104788327\n",
            "p-value: 0.32476987564575943\n",
            "\n",
            "South Asia and Sub-Saharan Africa:\n",
            "F-statistic: 6.325800938524417\n",
            "p-value: 0.01490825757370002\n",
            "\n",
            "South Asia and Latin America & Caribbean:\n",
            "F-statistic: 4.67995491275803\n",
            "p-value: 0.035525849959215365\n",
            "\n",
            "South Asia and North America:\n",
            "F-statistic: 2.4978720479188645\n",
            "p-value: 0.14845812644661044\n",
            "\n",
            "Europe & Central Asia and Middle East & North Africa:\n",
            "F-statistic: 0.08807613014805125\n",
            "p-value: 0.7674364279935495\n",
            "\n",
            "Europe & Central Asia and East Asia & Pacific:\n",
            "F-statistic: 0.24417208412287442\n",
            "p-value: 0.6223740636511298\n",
            "\n",
            "Europe & Central Asia and Sub-Saharan Africa:\n",
            "F-statistic: 6.495958561867879\n",
            "p-value: 0.012272369552185492\n",
            "\n",
            "Europe & Central Asia and Latin America & Caribbean:\n",
            "F-statistic: 3.4209950093415955\n",
            "p-value: 0.06738590365945521\n",
            "\n",
            "Europe & Central Asia and North America:\n",
            "F-statistic: 27.59081270080469\n",
            "p-value: 2.1559183373226314e-06\n",
            "\n",
            "Middle East & North Africa and East Asia & Pacific:\n",
            "F-statistic: 0.019914857646979086\n",
            "p-value: 0.8882815596367417\n",
            "\n",
            "Middle East & North Africa and Sub-Saharan Africa:\n",
            "F-statistic: 14.125058933955208\n",
            "p-value: 0.00036113072857291113\n",
            "\n",
            "Middle East & North Africa and Latin America & Caribbean:\n",
            "F-statistic: 7.801572725758142\n",
            "p-value: 0.006964147666506514\n",
            "\n",
            "Middle East & North Africa and North America:\n",
            "F-statistic: 10.825677161003764\n",
            "p-value: 0.003338456656036851\n",
            "\n",
            "East Asia & Pacific and Sub-Saharan Africa:\n",
            "F-statistic: 8.476096635792254\n",
            "p-value: 0.004619717097115956\n",
            "\n",
            "East Asia & Pacific and Latin America & Caribbean:\n",
            "F-statistic: 5.022454801641178\n",
            "p-value: 0.02790182818717577\n",
            "\n",
            "East Asia & Pacific and North America:\n",
            "F-statistic: 17.406351364844934\n",
            "p-value: 0.0001689117718371515\n",
            "\n",
            "Sub-Saharan Africa and Latin America & Caribbean:\n",
            "F-statistic: 1.6232524622606466\n",
            "p-value: 0.20599339328530542\n",
            "\n",
            "Sub-Saharan Africa and North America:\n",
            "F-statistic: 29.924308682223536\n",
            "p-value: 1.514794944412078e-06\n",
            "\n",
            "Latin America & Caribbean and North America:\n",
            "F-statistic: 25.417582902726394\n",
            "p-value: 8.832671102439031e-06\n",
            "\n"
          ]
        }
      ]
    },
    {
      "cell_type": "markdown",
      "metadata": {
        "id": "VTaQQUlRrXYq"
      },
      "source": [
        "<a name=\"task6\"></a>\n",
        "<div class=\"alert alert-success alertsuccess\" style=\"margin-top: 20px\">\n",
        "\n",
        "## <h2 id=\"task6\"> Додаткове завдання: </h2>\n",
        "\n",
        "<p>Дайте відповіді на питання</p>\n",
        "</div>\n"
      ]
    },
    {
      "cell_type": "markdown",
      "metadata": {
        "id": "jbVGAOW6rXYq"
      },
      "source": [
        "1. По результатам дисперсійного аналізу для кількості викидів СО2 по регіонам, вкажіть пару регіонів, що відрізняються найсильніше.\n",
        "2. Створіть якісну ознаку 'Rich country', згрупувавши дані 'GDP per capita' в кілька категорій (багаті-бідні країни, 3-5 категорій). Побудуйте діаграму розмаху для 'CO2 emission' по категоріям 'Rich country'. Візуально оцініть наявність зв'язку між цими ознаками.\n",
        "3. Виконайте дисперсійний аналіз для 'CO2 emission', згрупувавши дані по категоріям 'Rich country'."
      ]
    },
    {
      "cell_type": "markdown",
      "metadata": {
        "id": "ZhkZyi3ZrXYq"
      },
      "source": [
        "<details><summary>Натисніть тут, щоб побачити підказку</summary>\n",
        "\n",
        "Групування кількісної змінної в категорії було в попередній лабораторній роботі. Використайте функцію \"cut\"\n",
        "</details>"
      ]
    },
    {
      "cell_type": "code",
      "execution_count": 63,
      "metadata": {
        "id": "AQCb0OvRrXYq",
        "colab": {
          "base_uri": "https://localhost:8080/"
        },
        "outputId": "e132580c-5a75-4407-b951-dce54e30bf09"
      },
      "outputs": [
        {
          "output_type": "stream",
          "name": "stdout",
          "text": [
            "Пара регіонів, що відрізняються найбільше за кількістю викидів CO2: Sub-Saharan Africa та North America зі значенням F-статистики 29.924308682223536\n"
          ]
        }
      ],
      "source": [
        "max_f_val = 0\n",
        "max_group1 = \"\"\n",
        "max_group2 = \"\"\n",
        "for i in range(len(regions)):\n",
        " for j in range(i+1, len(regions)):\n",
        "     group1 = group.get_group(regions[i])['CO2 emission']\n",
        "     group2 = group.get_group(regions[j])['CO2 emission']\n",
        "     f_val, p_val = stats.f_oneway(group1, group2)\n",
        "     if f_val > max_f_val:\n",
        "         max_f_val = f_val\n",
        "         max_group1 = regions[i]\n",
        "         max_group2 = regions[j]\n",
        "\n",
        "print(f\"Пара регіонів, що відрізняються найбільше за кількістю викидів CO2: {max_group1} та {max_group2} зі значенням F-статистики {max_f_val}\")"
      ]
    },
    {
      "cell_type": "code",
      "source": [
        "bins = [0, 1000000000, 2000000000, 4000000000, 5000000000, float('inf')]\n",
        "labels = ['Дуже бідна', 'Бідна', 'Середня', 'Багата', 'Дуже багата']\n",
        "df['Rich country'] = pd.cut(df['GDP per capita'], bins=bins, labels=labels)\n",
        "print(df[['GDP per capita', 'Rich country']].head())"
      ],
      "metadata": {
        "colab": {
          "base_uri": "https://localhost:8080/"
        },
        "id": "w7vUtihsf0vZ",
        "outputId": "4b2d4453-a6cb-456a-886e-396ee1c39769"
      },
      "execution_count": 70,
      "outputs": [
        {
          "output_type": "stream",
          "name": "stdout",
          "text": [
            "   GDP per capita Rich country\n",
            "0      5617787463  Дуже багата\n",
            "1       412498239   Дуже бідна\n",
            "2      3916881571      Середня\n",
            "3      1183474523        Бідна\n",
            "4      3698862203      Середня\n"
          ]
        }
      ]
    },
    {
      "cell_type": "code",
      "source": [
        "group2 = df[['Rich country', 'CO2 emission']].groupby(['Rich country'])\n",
        "groups = [group2.get_group(group)['CO2 emission'] for group in group2.groups]\n",
        "f_val, p_val = stats.f_oneway(*groups)\n",
        "sns.boxplot(x='Rich country', y='CO2 emission', data=df)\n",
        "plt.plot()\n",
        "print(f\"ANOVA results: F = {f_val}, P = {p_val}\")"
      ],
      "metadata": {
        "colab": {
          "base_uri": "https://localhost:8080/",
          "height": 482
        },
        "id": "r5qLcF4Vf2NP",
        "outputId": "8cc0de3e-8929-4207-a370-6776e14509fd"
      },
      "execution_count": 71,
      "outputs": [
        {
          "output_type": "stream",
          "name": "stdout",
          "text": [
            "ANOVA results: F = 0.7616019724921229, P = 0.551329457515535\n"
          ]
        },
        {
          "output_type": "display_data",
          "data": {
            "text/plain": [
              "<Figure size 640x480 with 1 Axes>"
            ],
            "image/png": "[encoded data removed]"
          },
          "metadata": {}
        }
      ]
    },
    {
      "cell_type": "markdown",
      "metadata": {
        "id": "qomjQE-OrXYr"
      },
      "source": [
        "<h2>Виконав студент групи ІП-23 <br> Востріков Любомир</h2>"
      ]
    }
  ],
  "metadata": {
    "kernelspec": {
      "display_name": "Python 3",
      "language": "python",
      "name": "python3"
    },
    "language_info": {
      "codemirror_mode": {
        "name": "ipython",
        "version": 3
      },
      "file_extension": ".py",
      "mimetype": "text/x-python",
      "name": "python",
      "nbconvert_exporter": "python",
      "pygments_lexer": "ipython3",
      "version": "3.8.5"
    },
    "colab": {
      "provenance": [],
      "toc_visible": true
    }
  },
  "nbformat": 4,
  "nbformat_minor": 0
}